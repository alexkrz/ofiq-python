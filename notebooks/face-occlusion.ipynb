{
 "cells": [
  {
   "cell_type": "markdown",
   "metadata": {},
   "source": [
    "# Notebook to visualize computation of Landmarked Region"
   ]
  },
  {
   "cell_type": "markdown",
   "metadata": {},
   "source": [
    "### Imports"
   ]
  },
  {
   "cell_type": "code",
   "execution_count": null,
   "metadata": {},
   "outputs": [],
   "source": [
    "import sys\n",
    "from copy import deepcopy\n",
    "\n",
    "import cv2\n",
    "import matplotlib.pyplot as plt\n",
    "import numpy as np\n",
    "\n",
    "sys.path.append(\"../\")\n",
    "from src.adnet import compute_landmarks\n",
    "from src.ssd import ssd_detect\n",
    "from src.utils import draw_bboxes_and_keypoints, crop_and_resize\n",
    "\n",
    "%load_ext autoreload\n",
    "%autoreload 2"
   ]
  },
  {
   "cell_type": "markdown",
   "metadata": {},
   "source": [
    "### Face Detection"
   ]
  },
  {
   "cell_type": "code",
   "execution_count": null,
   "metadata": {},
   "outputs": [],
   "source": [
    "img_p = \"../data/009_03.jpg\"\n",
    "img_in = cv2.imread(img_p)\n",
    "bboxes = ssd_detect(\n",
    "    img_in,\n",
    "    model_p=\"../checkpoints/ssd/ssd_facedetect.caffemodel\",\n",
    "    prototxt_p=\"../checkpoints/ssd/ssd_facedetect.prototxt.txt\",\n",
    ")\n",
    "n_detections = len(bboxes)\n",
    "\n",
    "if n_detections >= 1:\n",
    "    # Use biggest bbox\n",
    "    max_area = 0\n",
    "    max_idx = 0\n",
    "    for idx in range(len(bboxes)):\n",
    "        bbox = bboxes[idx]\n",
    "        width = bbox[2]\n",
    "        height = bbox[3]\n",
    "        area = width * height\n",
    "        if area > max_area:\n",
    "            max_area = area\n",
    "            max_idx = idx\n",
    "else:\n",
    "    print(\"Did not detect any faces\")\n",
    "\n",
    "# Show image with detections\n",
    "img_out = draw_bboxes_and_keypoints(img_in, bboxes, keypoints_all=None)\n",
    "plt.imshow(cv2.cvtColor(img_out, cv2.COLOR_BGR2RGB))\n",
    "plt.show()"
   ]
  },
  {
   "cell_type": "code",
   "execution_count": null,
   "metadata": {},
   "outputs": [],
   "source": [
    "# Crop image to bounding box\n",
    "bbox = bboxes[max_idx]\n",
    "cropped_img = crop_and_resize(img_in, bbox, (616, 616))\n",
    "plt.imshow(cv2.cvtColor(cropped_img, cv2.COLOR_BGR2RGB))\n",
    "plt.show()"
   ]
  },
  {
   "cell_type": "markdown",
   "metadata": {},
   "source": [
    "### Landmark Detection"
   ]
  },
  {
   "cell_type": "code",
   "execution_count": null,
   "metadata": {},
   "outputs": [],
   "source": [
    "# Helper function\n",
    "def draw_points(img: np.ndarray, points: np.ndarray, name: str = \"default\"):\n",
    "    for idx in range(len(points)):\n",
    "        x, y = points[idx]\n",
    "        cv2.circle(img, (x, y), 3, (255, 0, 0), cv2.FILLED)\n",
    "        cv2.putText(img, name, (x + 2, y), cv2.FONT_HERSHEY_SIMPLEX, 0.5, (0, 0, 0))\n",
    "    return img\n",
    "\n",
    "\n",
    "# Compute and plot landmarks\n",
    "img = cropped_img\n",
    "model_p = \"../checkpoints/adnet/ADNet.onnx\"\n",
    "landmarks = compute_landmarks(img, model_p)\n",
    "# print(landmarks.shape)\n",
    "width, height, channels = img.shape\n",
    "img_landmarks = deepcopy(img)\n",
    "for idx in range(len(landmarks)):\n",
    "    x, y = landmarks[idx]\n",
    "    cv2.circle(img_landmarks, (x, y), 3, (255, 0, 0), cv2.FILLED)\n",
    "    cv2.putText(img_landmarks, str(idx), (x + 2, y), cv2.FONT_HERSHEY_SIMPLEX, 0.5, (0, 0, 0))\n",
    "plt.imshow(cv2.cvtColor(img_landmarks, cv2.COLOR_BGR2RGB))\n",
    "# plt.savefig(\"../output/01_landmarks.png\", bbox_inches=\"tight\")\n",
    "plt.show()"
   ]
  },
  {
   "cell_type": "markdown",
   "metadata": {},
   "source": [
    "### Break down GetFaceMask() function into individual parts"
   ]
  },
  {
   "cell_type": "code",
   "execution_count": null,
   "metadata": {},
   "outputs": [],
   "source": [
    "# Compute convex hull from selection of landmarks\n",
    "hull_points = cv2.convexHull(landmarks).squeeze()\n",
    "\n",
    "# Drawing function\n",
    "img_hullpoints = draw_points(deepcopy(img), hull_points, \"hl\")\n",
    "plt.imshow(cv2.cvtColor(img_hullpoints, cv2.COLOR_BGR2RGB))\n",
    "# plt.savefig(\"../output/02_convex_hull.png\", bbox_inches=\"tight\")\n",
    "plt.show()"
   ]
  },
  {
   "cell_type": "code",
   "execution_count": null,
   "metadata": {},
   "outputs": [],
   "source": [
    "# Generate mask from convex hull\n",
    "mask = np.zeros((height, width), dtype=np.uint8)\n",
    "cv2.fillConvexPoly(mask, np.array(hull_points, dtype=np.int32), 1)\n",
    "\n",
    "# Show mask\n",
    "plt.imshow(mask, cmap=\"gray\")\n",
    "plt.show()"
   ]
  },
  {
   "cell_type": "markdown",
   "metadata": {},
   "source": [
    "### Addition: Blend mask on input image"
   ]
  },
  {
   "cell_type": "code",
   "execution_count": null,
   "metadata": {},
   "outputs": [],
   "source": [
    "# Plot face_mask on img\n",
    "face_mask = mask\n",
    "face_mask = cv2.cvtColor(face_mask, cv2.COLOR_GRAY2BGR)  # Extend face_mask channels\n",
    "face_mask[:, :, 2] = face_mask[:, :, 2] * 120.0\n",
    "img_rgb = cv2.cvtColor(deepcopy(img), cv2.COLOR_BGR2RGB)\n",
    "img_mask = cv2.addWeighted(img_rgb, 0.7, face_mask, 0.3, 0.0)\n",
    "\n",
    "plt.imshow(img_mask)\n",
    "# plt.savefig(\"../output/03_mask_on_img.png\", bbox_inches=\"tight\")\n",
    "plt.show()"
   ]
  },
  {
   "cell_type": "code",
   "execution_count": null,
   "metadata": {},
   "outputs": [],
   "source": [
    "# Create subplot with all steps\n",
    "from typing import List\n",
    "\n",
    "fig, axs = plt.subplots(1, 3, figsize=(12, 6))\n",
    "axs: List[plt.Axes] = np.ravel(axs)\n",
    "\n",
    "for ax in axs:\n",
    "    ax.tick_params(left=False, bottom=False, labelleft=False, labelbottom=False)\n",
    "\n",
    "axs[0].imshow(cv2.cvtColor(img_landmarks, cv2.COLOR_BGR2RGB))\n",
    "axs[0].set_title(\"ADNet Landmarks\")\n",
    "axs[1].imshow(cv2.cvtColor(img_hullpoints, cv2.COLOR_BGR2RGB))\n",
    "axs[1].set_title(\"OpenCV convexHull\")\n",
    "axs[2].imshow(img_mask)\n",
    "axs[2].set_title(\"Landmarked Region\")\n",
    "\n",
    "plt.tight_layout()\n",
    "# plt.savefig(\"../output/ofiq_convexHull.png\", bbox_inches=\"tight\")\n",
    "plt.show()"
   ]
  },
  {
   "cell_type": "code",
   "execution_count": null,
   "metadata": {},
   "outputs": [],
   "source": []
  }
 ],
 "metadata": {
  "kernelspec": {
   "display_name": "ofiqpy",
   "language": "python",
   "name": "python3"
  },
  "language_info": {
   "codemirror_mode": {
    "name": "ipython",
    "version": 3
   },
   "file_extension": ".py",
   "mimetype": "text/x-python",
   "name": "python",
   "nbconvert_exporter": "python",
   "pygments_lexer": "ipython3",
   "version": "3.11.10"
  }
 },
 "nbformat": 4,
 "nbformat_minor": 4
}
