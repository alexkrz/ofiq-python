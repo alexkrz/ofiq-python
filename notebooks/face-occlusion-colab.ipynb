{
 "cells": [
  {
   "cell_type": "markdown",
   "metadata": {
    "colab_type": "text",
    "id": "view-in-github"
   },
   "source": [
    "<a href=\"https://colab.research.google.com/github/alexkrz/ofiq-python/blob/main/notebooks/face-occlusion-colab.ipynb\" target=\"_parent\"><img src=\"https://colab.research.google.com/assets/colab-badge.svg\" alt=\"Open In Colab\"/></a>"
   ]
  },
  {
   "cell_type": "markdown",
   "metadata": {
    "id": "pAv6t0FKYizh"
   },
   "source": [
    "# Notebook to visualize computation of Landmarked Region"
   ]
  },
  {
   "cell_type": "code",
   "execution_count": null,
   "metadata": {
    "id": "4c-2gac6Yx8m"
   },
   "outputs": [],
   "source": [
    "# Make sure we start from the default content directory\n",
    "%cd /content\n",
    "# Clone repository\n",
    "!git clone https://github.com/alexkrz/ofiq-python.git\n",
    "# Install missing packages\n",
    "!pip install onnxruntime\n",
    "# Move into cloned repository and keep the path persistent\n",
    "%cd /content/ofiq-python/notebooks/"
   ]
  },
  {
   "cell_type": "markdown",
   "metadata": {
    "id": "VrtVVZ49Yizh"
   },
   "source": [
    "### Imports"
   ]
  },
  {
   "cell_type": "code",
   "execution_count": null,
   "metadata": {
    "id": "VSZbdCRaYizh"
   },
   "outputs": [],
   "source": [
    "import sys\n",
    "from copy import deepcopy\n",
    "\n",
    "import cv2\n",
    "import matplotlib.pyplot as plt\n",
    "import numpy as np\n",
    "\n",
    "sys.path.append(\"../\")\n",
    "from src.adnet import compute_landmarks\n",
    "\n",
    "%load_ext autoreload\n",
    "%autoreload 2"
   ]
  },
  {
   "cell_type": "markdown",
   "metadata": {
    "id": "8XOuDRoZYizi"
   },
   "source": [
    "### Setup"
   ]
  },
  {
   "cell_type": "code",
   "execution_count": null,
   "metadata": {
    "id": "Kw_1aavoYizi"
   },
   "outputs": [],
   "source": [
    "img_p = \"../data/009_03_cropped.png\"\n",
    "model_p = \"../checkpoints/adnet/adnet_ofiq.onnx\"\n",
    "landmarks = compute_landmarks(img_p, model_p)\n",
    "# print(landmarks.shape)\n",
    "\n",
    "# Helper function\n",
    "\n",
    "\n",
    "def draw_points(img: np.ndarray, points: np.ndarray, name: str = \"default\"):\n",
    "    for idx in range(len(points)):\n",
    "        x, y = points[idx]\n",
    "        cv2.circle(img, (x, y), 3, (255, 0, 0), cv2.FILLED)\n",
    "        cv2.putText(img, name, (x + 2, y), cv2.FONT_HERSHEY_SIMPLEX, 0.5, (0, 0, 0))\n",
    "    return img\n",
    "\n",
    "\n",
    "# Show computed landmarks\n",
    "img = cv2.imread(img_p)\n",
    "width, height, channels = img.shape\n",
    "img_landmarks = deepcopy(img)\n",
    "for idx in range(len(landmarks)):\n",
    "    x, y = landmarks[idx]\n",
    "    cv2.circle(img_landmarks, (x, y), 3, (255, 0, 0), cv2.FILLED)\n",
    "    cv2.putText(img_landmarks, str(idx), (x + 2, y), cv2.FONT_HERSHEY_SIMPLEX, 0.5, (0, 0, 0))\n",
    "plt.imshow(cv2.cvtColor(img_landmarks, cv2.COLOR_BGR2RGB))\n",
    "# plt.savefig(\"../output/01_landmarks.png\", bbox_inches=\"tight\")\n",
    "plt.show()"
   ]
  },
  {
   "cell_type": "markdown",
   "metadata": {
    "id": "lD8XjM_9Yizi"
   },
   "source": [
    "### Break down GetFaceMask() function into individual parts"
   ]
  },
  {
   "cell_type": "code",
   "execution_count": null,
   "metadata": {},
   "outputs": [],
   "source": [
    "# Compute convex hull from selection of landmarks\n",
    "hull_points = cv2.convexHull(landmarks).squeeze()\n",
    "\n",
    "# Drawing function\n",
    "img_hullpoints = draw_points(deepcopy(img), hull_points, \"hl\")\n",
    "plt.imshow(cv2.cvtColor(img_hullpoints, cv2.COLOR_BGR2RGB))\n",
    "# plt.savefig(\"../output/02_convex_hull.png\", bbox_inches=\"tight\")\n",
    "plt.show()"
   ]
  },
  {
   "cell_type": "code",
   "execution_count": null,
   "metadata": {},
   "outputs": [],
   "source": [
    "# Generate mask from convex hull\n",
    "mask = np.zeros((height, width), dtype=np.uint8)\n",
    "cv2.fillConvexPoly(mask, np.array(hull_points, dtype=np.int32), 1)\n",
    "\n",
    "# Show mask\n",
    "plt.imshow(mask, cmap=\"gray\")\n",
    "plt.show()"
   ]
  },
  {
   "cell_type": "markdown",
   "metadata": {
    "id": "m9EZVH7HYizi"
   },
   "source": [
    "### Addition: Blend mask on input image"
   ]
  },
  {
   "cell_type": "code",
   "execution_count": null,
   "metadata": {
    "id": "00S0RHP6Yizi"
   },
   "outputs": [],
   "source": [
    "# Plot face_mask on img\n",
    "face_mask = mask\n",
    "face_mask = cv2.cvtColor(face_mask, cv2.COLOR_GRAY2BGR)  # Extend face_mask channels\n",
    "face_mask[:, :, 2] = face_mask[:, :, 2] * 120.0\n",
    "img_rgb = cv2.cvtColor(deepcopy(img), cv2.COLOR_BGR2RGB)\n",
    "img_mask = cv2.addWeighted(img_rgb, 0.7, face_mask, 0.3, 0.0)\n",
    "\n",
    "plt.imshow(img_mask)\n",
    "# plt.savefig(\"../output/03_mask_on_img.png\", bbox_inches=\"tight\")\n",
    "plt.show()"
   ]
  },
  {
   "cell_type": "code",
   "execution_count": null,
   "metadata": {
    "id": "D2RrD858Yizi"
   },
   "outputs": [],
   "source": [
    "# Create subplot with all steps\n",
    "from typing import List\n",
    "\n",
    "fig, axs = plt.subplots(1, 3, figsize=(12, 6))\n",
    "axs: List[plt.Axes] = np.ravel(axs)\n",
    "\n",
    "for ax in axs:\n",
    "    ax.tick_params(left=False, bottom=False, labelleft=False, labelbottom=False)\n",
    "\n",
    "axs[0].imshow(cv2.cvtColor(img_landmarks, cv2.COLOR_BGR2RGB))\n",
    "axs[0].set_title(\"ADNet Landmarks\")\n",
    "axs[1].imshow(cv2.cvtColor(img_hullpoints, cv2.COLOR_BGR2RGB))\n",
    "axs[1].set_title(\"OpenCV convexHull\")\n",
    "axs[2].imshow(img_mask)\n",
    "axs[2].set_title(\"Landmarked Region\")\n",
    "\n",
    "plt.tight_layout()\n",
    "# plt.savefig(\"../output/ofiq_convexHull.png\", bbox_inches=\"tight\")\n",
    "plt.show()"
   ]
  },
  {
   "cell_type": "code",
   "execution_count": null,
   "metadata": {
    "id": "gBBGRp5GYizj"
   },
   "outputs": [],
   "source": []
  }
 ],
 "metadata": {
  "colab": {
   "include_colab_link": true,
   "provenance": []
  },
  "kernelspec": {
   "display_name": "fdetect",
   "language": "python",
   "name": "python3"
  },
  "language_info": {
   "codemirror_mode": {
    "name": "ipython",
    "version": 3
   },
   "file_extension": ".py",
   "mimetype": "text/x-python",
   "name": "python",
   "nbconvert_exporter": "python",
   "pygments_lexer": "ipython3",
   "version": "3.11.10"
  }
 },
 "nbformat": 4,
 "nbformat_minor": 0
}
